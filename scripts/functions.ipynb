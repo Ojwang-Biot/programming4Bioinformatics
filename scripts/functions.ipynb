{
 "cells": [
  {
   "cell_type": "code",
   "execution_count": null,
   "id": "233cf6cd-f262-42c1-80d2-57113175ae1e",
   "metadata": {},
   "outputs": [],
   "source": [
    "## Design with functions"
   ]
  },
  {
   "cell_type": "code",
   "execution_count": null,
   "id": "bd568571-2895-4d80-b9e9-121e96a106ba",
   "metadata": {},
   "outputs": [],
   "source": [
    "# sum function"
   ]
  },
  {
   "cell_type": "code",
   "execution_count": 11,
   "id": "c25b4bd6-f570-4a9a-ba5a-0caafae705b8",
   "metadata": {},
   "outputs": [
    {
     "data": {
      "text/plain": [
       "161"
      ]
     },
     "execution_count": 11,
     "metadata": {},
     "output_type": "execute_result"
    }
   ],
   "source": [
    "''' function with two arguments; lower and upper\n",
    "and returns the sum of the numbers between the arguments\n",
    "inclusive '''\n",
    "def sum(lower, upper):\n",
    "    result = 0\n",
    "    while lower <= upper:\n",
    "        result += lower\n",
    "        lower += 1\n",
    "    return result\n",
    "\n",
    "sum(5, 18)"
   ]
  },
  {
   "cell_type": "code",
   "execution_count": 12,
   "id": "d52647f4-f7c0-43a4-b69c-b2bfd9ed4f8a",
   "metadata": {},
   "outputs": [
    {
     "data": {
      "text/plain": [
       "0"
      ]
     },
     "execution_count": 12,
     "metadata": {},
     "output_type": "execute_result"
    }
   ],
   "source": [
    "sum(40, 30)"
   ]
  },
  {
   "cell_type": "markdown",
   "id": "de9b9919-c1d8-481f-8419-266713e7b2b8",
   "metadata": {},
   "source": [
    "# Revision question\n",
    "Describe the processes of top-down design and stepwise refinement.\n",
    "Where does the design start and how does it proceed?"
   ]
  },
  {
   "cell_type": "markdown",
   "id": "1f6217bb-89c2-4d0e-bfeb-1067c07345d7",
   "metadata": {},
   "source": [
    "# Dierbach Book exercises (page 203-4)\n",
    "# P1\n",
    "Write a Python function named zeroCheck that is given three integers, and returns true if any of the\n",
    "integers is 0, otherwise it returns false."
   ]
  },
  {
   "cell_type": "code",
   "execution_count": 21,
   "id": "37cb6ad2-1222-4ee3-9a6b-1ed88387335e",
   "metadata": {},
   "outputs": [],
   "source": [
    "''' function that takes 3 integers and returns true\n",
    "when any number is 0 and false otherwise\n",
    "Algorithm\n",
    "1. Input three integers\n",
    "2. if any of the integers is 0, return true\n",
    "3. Otherwise return false\n",
    "'''\n",
    "\n",
    "def zeroCheck(x,y,z):\n",
    "    if x == 0 or y == 0 or z == 0:\n",
    "        return True\n",
    "    else:\n",
    "        return False"
   ]
  },
  {
   "cell_type": "code",
   "execution_count": 22,
   "id": "4a52c68a-125e-4f34-827d-f1325fdeacad",
   "metadata": {},
   "outputs": [
    {
     "data": {
      "text/plain": [
       "True"
      ]
     },
     "execution_count": 22,
     "metadata": {},
     "output_type": "execute_result"
    }
   ],
   "source": [
    "zeroCheck(1,0,0)"
   ]
  },
  {
   "cell_type": "code",
   "execution_count": 26,
   "id": "73a0c0a1-97a5-4f6b-95b4-9a9f4b95f3b4",
   "metadata": {},
   "outputs": [
    {
     "data": {
      "text/plain": [
       "False"
      ]
     },
     "execution_count": 26,
     "metadata": {},
     "output_type": "execute_result"
    }
   ],
   "source": [
    "zeroCheck(1,1,1)"
   ]
  },
  {
   "cell_type": "markdown",
   "id": "d6563e54-d8da-476e-8b78-fec268ac8377",
   "metadata": {},
   "source": [
    "# P2\n",
    "Write a Python function named ordered3 that is passed three integers, and returns true if the three integers are in order from smallest to largest, otherwise it returns false."
   ]
  },
  {
   "cell_type": "code",
   "execution_count": 36,
   "id": "f8e1c055-0d53-4cef-b755-1fd4dd661376",
   "metadata": {},
   "outputs": [
    {
     "data": {
      "text/plain": [
       "False"
      ]
     },
     "execution_count": 36,
     "metadata": {},
     "output_type": "execute_result"
    }
   ],
   "source": [
    "'''program taking three integers and checking if \n",
    "they are ordered from smallest to largest\n",
    "Algorithm\n",
    "1. create three parameters to store three integers\n",
    "2. check the order of the integers\n",
    "3. if the numbers are ordered from small to largest\n",
    "then return true\n",
    "4. otherwise return false\n",
    "'''\n",
    "\n",
    "def ordered3(a:int, b:int, c:int):\n",
    "    if a < b < c:\n",
    "        return True\n",
    "    else: \n",
    "        return False\n",
    "\n",
    "ordered3(6, 5, 8)"
   ]
  },
  {
   "cell_type": "markdown",
   "id": "ca2e91b8-8078-4ee6-92b3-a25ee149049e",
   "metadata": {},
   "source": [
    "# P3\n",
    "Write a Python function named modCount that is given a positive integer, n, and a second positive integer, m <= n, and returns how many numbers between 1 and n are evenly divisible by m"
   ]
  },
  {
   "cell_type": "code",
   "execution_count": 53,
   "id": "c1a93015-8856-4d61-a194-9f02ee6d474d",
   "metadata": {},
   "outputs": [
    {
     "data": {
      "text/plain": [
       "5"
      ]
     },
     "execution_count": 53,
     "metadata": {},
     "output_type": "execute_result"
    }
   ],
   "source": [
    "def modCount(n, m):\n",
    "    count = 0\n",
    "    for num in range(1, n+):\n",
    "        if num % m == 0:\n",
    "            count += 1\n",
    "    return count\n",
    "\n",
    "modCount(10, 2)\n"
   ]
  },
  {
   "cell_type": "markdown",
   "id": "6bc5a516-b8ea-4dbf-a34d-e9cdeaa15347",
   "metadata": {},
   "source": [
    "# P4\n",
    "Write a Python function named helloWorld that displays \"Hello World, my name is name\",\n",
    "for any given name passed to the routine."
   ]
  },
  {
   "cell_type": "code",
   "execution_count": 60,
   "id": "014c8e2a-6e05-47ca-b40e-e15820afff5a",
   "metadata": {},
   "outputs": [],
   "source": [
    "def helloWorld(name):\n",
    "     print(f\"Hello World, my name is: {name}\")\n"
   ]
  },
  {
   "cell_type": "code",
   "execution_count": 61,
   "id": "d286ab33-eaee-46ea-8c5f-b73012c818e9",
   "metadata": {},
   "outputs": [
    {
     "name": "stdout",
     "output_type": "stream",
     "text": [
      "Hello World, my name is: Johannes\n"
     ]
    }
   ],
   "source": [
    "helloWorld(\"Johannes\")"
   ]
  },
  {
   "cell_type": "markdown",
   "id": "6c7ef62f-bb62-4e54-8481-e411f4ecc64e",
   "metadata": {},
   "source": [
    "# M2\n",
    "GPA Calculation Program: Accommodating First-Semester Students\n",
    "Modify the GPA Calculation program in section 5.2.7 so that it asks the student if this is their first semester. If so, the program should only prompt for their current semester grades, and not their cumulative GPA and total earned credits, and display their semester GPA and cumulative GPA accordingly."
   ]
  },
  {
   "cell_type": "code",
   "execution_count": null,
   "id": "a7dad6cf-708e-48f2-96a6-f699672090f9",
   "metadata": {},
   "outputs": [],
   "source": []
  },
  {
   "cell_type": "markdown",
   "id": "312862a4-7495-4384-9714-fef191dcc194",
   "metadata": {},
   "source": [
    "Write a function that accepts a list of items a person wants on a sandwich. The function should have one parameter that collects as many items as the function call provides, and it should print a summary of the sandwich that is being ordered Call the function three times, using a different number of arguments each time."
   ]
  },
  {
   "cell_type": "markdown",
   "id": "265720b3-9307-45f4-8653-22dfb1f5a4f1",
   "metadata": {},
   "source": [
    "# Lecture 4 Exercises"
   ]
  },
  {
   "cell_type": "code",
   "execution_count": null,
   "id": "e63951c7-c1af-46b0-9259-539423c5d35a",
   "metadata": {},
   "outputs": [],
   "source": []
  }
 ],
 "metadata": {
  "kernelspec": {
   "display_name": "Python 3 (ipykernel)",
   "language": "python",
   "name": "python3"
  },
  "language_info": {
   "codemirror_mode": {
    "name": "ipython",
    "version": 3
   },
   "file_extension": ".py",
   "mimetype": "text/x-python",
   "name": "python",
   "nbconvert_exporter": "python",
   "pygments_lexer": "ipython3",
   "version": "3.11.5"
  }
 },
 "nbformat": 4,
 "nbformat_minor": 5
}
