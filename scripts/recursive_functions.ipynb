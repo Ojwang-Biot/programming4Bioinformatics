{
 "cells": [
  {
   "cell_type": "code",
   "execution_count": 51,
   "id": "138bb1b2-6a96-448f-b28e-26d62ef06255",
   "metadata": {},
   "outputs": [],
   "source": []
  },
  {
   "cell_type": "code",
   "execution_count": 52,
   "id": "eaa09426-4e6d-4e54-820e-ef88d518f5c3",
   "metadata": {},
   "outputs": [
    {
     "name": "stdout",
     "output_type": "stream",
     "text": [
      "Invalid seq\n"
     ]
    }
   ],
   "source": [
    "seq_validation(\"aAGgTtCc\")"
   ]
  },
  {
   "cell_type": "code",
   "execution_count": 49,
   "id": "3ac592c9-884e-446b-bea7-c727ff01edb0",
   "metadata": {},
   "outputs": [
    {
     "name": "stdout",
     "output_type": "stream",
     "text": [
      "Invalid seq\n"
     ]
    }
   ],
   "source": [
    "seq_validation(\"aAGgTtCV\")"
   ]
  },
  {
   "cell_type": "code",
   "execution_count": 50,
   "id": "26ed1878-3587-4c74-abda-d4e8a09151d0",
   "metadata": {},
   "outputs": [
    {
     "name": "stdout",
     "output_type": "stream",
     "text": [
      "Invalid seq\n"
     ]
    }
   ],
   "source": [
    "seq_validation(\"tATCG\")"
   ]
  },
  {
   "cell_type": "code",
   "execution_count": null,
   "id": "bf352732-f5d6-4f83-b231-4732da1a29e3",
   "metadata": {},
   "outputs": [],
   "source": []
  },
  {
   "cell_type": "markdown",
   "id": "6b44c5bd-3056-4cee-823a-a8eb1b52e4cf",
   "metadata": {},
   "source": [
    "# Exercises\n",
    "Write a recursive function that takes an integer and returns its factorial. You might find the following recursive definition of a factorial useful:\n",
    "Fact(n) = 1 for n <=1\n",
    "Fact (n) = Fact(n-1) * n"
   ]
  },
  {
   "cell_type": "code",
   "execution_count": 1,
   "id": "7a75c8e3-d459-4f35-93ec-6a1e5c1c6055",
   "metadata": {
    "tags": []
   },
   "outputs": [],
   "source": [
    "def fact(n):\n",
    "    if n <= 1: # defining the base case\n",
    "        return 1\n",
    "    else:\n",
    "        return fact(n-1) * n # recursion"
   ]
  },
  {
   "cell_type": "code",
   "execution_count": 2,
   "id": "1681e987-594c-4cd0-8572-352879a6c9cf",
   "metadata": {
    "tags": []
   },
   "outputs": [
    {
     "data": {
      "text/plain": [
       "120"
      ]
     },
     "execution_count": 2,
     "metadata": {},
     "output_type": "execute_result"
    }
   ],
   "source": [
    "# invoking the fact function\n",
    "fact(5)"
   ]
  },
  {
   "cell_type": "code",
   "execution_count": 4,
   "id": "06a94a59-8be3-4c3d-89c9-5462717d2952",
   "metadata": {
    "tags": []
   },
   "outputs": [
    {
     "data": {
      "text/plain": [
       "1"
      ]
     },
     "execution_count": 4,
     "metadata": {},
     "output_type": "execute_result"
    }
   ],
   "source": [
    "fact(0)"
   ]
  },
  {
   "cell_type": "code",
   "execution_count": 15,
   "id": "050ac54d-060b-4931-8adc-7ffb4dbb135f",
   "metadata": {
    "tags": []
   },
   "outputs": [],
   "source": [
    "def iterationFact(n):\n",
    "    result = 1\n",
    "    if n == 0:\n",
    "        return result\n",
    "    for i in range(n, 0, -1):\n",
    "        result = result * i\n",
    "    return result"
   ]
  },
  {
   "cell_type": "code",
   "execution_count": 17,
   "id": "ff069a34-9249-44f2-bf81-8d7970237cc7",
   "metadata": {
    "tags": []
   },
   "outputs": [
    {
     "data": {
      "text/plain": [
       "120"
      ]
     },
     "execution_count": 17,
     "metadata": {},
     "output_type": "execute_result"
    }
   ],
   "source": [
    "iterationFact(5)"
   ]
  },
  {
   "cell_type": "markdown",
   "id": "9e21e99f-a99b-4cd1-b6cd-2c490055e330",
   "metadata": {},
   "source": [
    "# Practice exercise\n",
    "Ask the user to enter the names of three people they want to invite to a party and store them in a list. After they have entered all three names, ask them if they want to add another. If they do, allow them to add more names until they answer “no”. When they answer “no”, display how many people they have invited to the party."
   ]
  },
  {
   "cell_type": "code",
   "execution_count": 19,
   "id": "fcbe5833-fce6-4b3a-9505-014f2d082980",
   "metadata": {
    "tags": []
   },
   "outputs": [],
   "source": [
    "def partyList():\n",
    "    names = input(\"Enter names of three people separate with space: \").split()\n",
    "    print()\n",
    "    other_names = input(\"Do you want to add more names? y/n: \")\n",
    "    print()\n",
    "    while other_names == \"y\":\n",
    "        newname = names.append(input(\"Enter additional name: \"))\n",
    "        print()\n",
    "        other_names = input(\"Do you want to add more names? y/n: \")\n",
    "    for n in names:\n",
    "        print(n)\n",
    "    print(\"You have\", len(names), \"coming to your party\")"
   ]
  },
  {
   "cell_type": "code",
   "execution_count": 20,
   "id": "c9d4c97b-0f08-44db-8052-511e95b8c123",
   "metadata": {
    "tags": []
   },
   "outputs": [
    {
     "name": "stdin",
     "output_type": "stream",
     "text": [
      "Enter names of three people separate with space:  John Mercy joseph\n"
     ]
    },
    {
     "name": "stdout",
     "output_type": "stream",
     "text": [
      "\n"
     ]
    },
    {
     "name": "stdin",
     "output_type": "stream",
     "text": [
      "Do you want to add more names? y/n:  y\n"
     ]
    },
    {
     "name": "stdout",
     "output_type": "stream",
     "text": [
      "\n"
     ]
    },
    {
     "name": "stdin",
     "output_type": "stream",
     "text": [
      "Enter additional name:  kimani\n"
     ]
    },
    {
     "name": "stdout",
     "output_type": "stream",
     "text": [
      "\n"
     ]
    },
    {
     "name": "stdin",
     "output_type": "stream",
     "text": [
      "Do you want to add more names? y/n:  y\n",
      "Enter additional name:  Maryline\n"
     ]
    },
    {
     "name": "stdout",
     "output_type": "stream",
     "text": [
      "\n"
     ]
    },
    {
     "name": "stdin",
     "output_type": "stream",
     "text": [
      "Do you want to add more names? y/n:  y\n",
      "Enter additional name:  willis\n"
     ]
    },
    {
     "name": "stdout",
     "output_type": "stream",
     "text": [
      "\n"
     ]
    },
    {
     "name": "stdin",
     "output_type": "stream",
     "text": [
      "Do you want to add more names? y/n:  y\n",
      "Enter additional name:  yvonne\n"
     ]
    },
    {
     "name": "stdout",
     "output_type": "stream",
     "text": [
      "\n"
     ]
    },
    {
     "name": "stdin",
     "output_type": "stream",
     "text": [
      "Do you want to add more names? y/n:  y\n",
      "Enter additional name:  jessica\n"
     ]
    },
    {
     "name": "stdout",
     "output_type": "stream",
     "text": [
      "\n"
     ]
    },
    {
     "name": "stdin",
     "output_type": "stream",
     "text": [
      "Do you want to add more names? y/n:  n\n"
     ]
    },
    {
     "name": "stdout",
     "output_type": "stream",
     "text": [
      "John\n",
      "Mercy\n",
      "joseph\n",
      "kimani\n",
      "Maryline\n",
      "willis\n",
      "yvonne\n",
      "jessica\n",
      "You have 8 coming to your party\n"
     ]
    }
   ],
   "source": [
    "partyList()"
   ]
  },
  {
   "cell_type": "markdown",
   "id": "ced20a8e-979d-4b92-9d71-8d81fb73145b",
   "metadata": {},
   "source": [
    "# Sandwich\n",
    "Write a function that accepts a list of items a person wants on a sandwich. The function should have one parameter that collects as many items as the function call provides, and it should print a summary of the sandwich that is being ordered Call the function three times, using a different number of arguments each time."
   ]
  },
  {
   "cell_type": "code",
   "execution_count": 35,
   "id": "a2ddadeb-6a78-4baf-a3ea-c3a9bb6d06cc",
   "metadata": {
    "tags": []
   },
   "outputs": [],
   "source": [
    "def sandwich(*sandwich:str):\n",
    "    print(\"You have ordered sandwich with the following ingredients:\")\n",
    "    for s in sandwich:\n",
    "        print('-', s)"
   ]
  },
  {
   "cell_type": "code",
   "execution_count": 34,
   "id": "c4d210f6-a245-43a8-be13-80f563a21cbe",
   "metadata": {
    "tags": []
   },
   "outputs": [
    {
     "name": "stdout",
     "output_type": "stream",
     "text": [
      "You have ordered sandwich with the following ingredients:\n",
      "\n",
      "apple\n",
      "banana\n",
      "eggs\n",
      "vegetables\n"
     ]
    }
   ],
   "source": [
    "sandwich(\"apple\", \"banana\", \"eggs\", \"vegetables\")"
   ]
  },
  {
   "cell_type": "code",
   "execution_count": 36,
   "id": "b7dd9f05-e066-40e9-a929-f45552d33bc6",
   "metadata": {
    "tags": []
   },
   "outputs": [
    {
     "name": "stdout",
     "output_type": "stream",
     "text": [
      "You have ordered sandwich with the following ingredients:\n",
      "- pork\n",
      "- alevadhure\n",
      "- chicken\n"
     ]
    }
   ],
   "source": [
    "sandwich(\"pork\", \"alevadhure\", \"chicken\")"
   ]
  },
  {
   "cell_type": "markdown",
   "id": "160b7869-371c-454b-905e-a4c5b5dc4628",
   "metadata": {},
   "source": [
    "#\n",
    "Create a tuple containing the names of five countries and display the whole tuple. Ask the user to enter one of the countries that have been shown to them and then display the index number (i.e. position in the list) of that item in the tuple."
   ]
  },
  {
   "cell_type": "code",
   "execution_count": 46,
   "id": "33b5c952-d0c4-4aa9-8cc9-3006a40ad6e4",
   "metadata": {
    "tags": []
   },
   "outputs": [],
   "source": [
    "countryTuple = ('Kenya', 'Uganda', 'Tanzania', 'Somali', 'Germany')"
   ]
  },
  {
   "cell_type": "code",
   "execution_count": 47,
   "id": "10750cd7-9072-40b8-8a24-3740ff8d1abc",
   "metadata": {
    "tags": []
   },
   "outputs": [
    {
     "name": "stdout",
     "output_type": "stream",
     "text": [
      "('Kenya', 'Uganda', 'Tanzania', 'Somali', 'Germany')\n"
     ]
    }
   ],
   "source": [
    "print(countryTuple)"
   ]
  },
  {
   "cell_type": "code",
   "execution_count": 53,
   "id": "75175aa6-3551-42a7-9852-c5164b90f816",
   "metadata": {
    "tags": []
   },
   "outputs": [
    {
     "name": "stdout",
     "output_type": "stream",
     "text": [
      "('Kenya', 'Uganda', 'Tanzania', 'Somali', 'Germany')\n"
     ]
    },
    {
     "name": "stdin",
     "output_type": "stream",
     "text": [
      "Enter one of the country's shown:  Somali\n"
     ]
    },
    {
     "ename": "TypeError",
     "evalue": "'str' object is not callable",
     "output_type": "error",
     "traceback": [
      "\u001b[0;31m---------------------------------------------------------------------------\u001b[0m",
      "\u001b[0;31mTypeError\u001b[0m                                 Traceback (most recent call last)",
      "Cell \u001b[0;32mIn[53], line 6\u001b[0m\n\u001b[1;32m      4\u001b[0m \u001b[38;5;28;01mfor\u001b[39;00m c \u001b[38;5;129;01min\u001b[39;00m user:\n\u001b[1;32m      5\u001b[0m     \u001b[38;5;28;01mfor\u001b[39;00m c \u001b[38;5;129;01min\u001b[39;00m countryTuple:\n\u001b[0;32m----> 6\u001b[0m         \u001b[38;5;28mprint\u001b[39m(c())\n",
      "\u001b[0;31mTypeError\u001b[0m: 'str' object is not callable"
     ]
    }
   ],
   "source": [
    "countryTuple = ('Kenya', 'Uganda', 'Tanzania', 'Somali', 'Germany')\n",
    "print(countryTuple)\n",
    "user = input(\"Enter one of the country's shown: \")\n",
    "for c in user:\n",
    "    for c in countryTuple:\n",
    "        print(c())"
   ]
  }
 ],
 "metadata": {
  "kernelspec": {
   "display_name": "Python 3 (ipykernel)",
   "language": "python",
   "name": "python3"
  },
  "language_info": {
   "codemirror_mode": {
    "name": "ipython",
    "version": 3
   },
   "file_extension": ".py",
   "mimetype": "text/x-python",
   "name": "python",
   "nbconvert_exporter": "python",
   "pygments_lexer": "ipython3",
   "version": "3.11.5"
  }
 },
 "nbformat": 4,
 "nbformat_minor": 5
}
