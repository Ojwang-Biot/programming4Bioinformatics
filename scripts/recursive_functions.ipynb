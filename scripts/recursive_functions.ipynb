{
 "cells": [
  {
   "cell_type": "markdown",
   "id": "6b44c5bd-3056-4cee-823a-a8eb1b52e4cf",
   "metadata": {},
   "source": [
    "# Exercises\n",
    "Write a recursive function that takes an integer and returns its factorial. You might find the following recursive definition of a factorial useful:\n",
    "Fact(n) = 1 for n <=1\n",
    "Fact (n) = Fact(n-1) * n"
   ]
  },
  {
   "cell_type": "code",
   "execution_count": 1,
   "id": "7a75c8e3-d459-4f35-93ec-6a1e5c1c6055",
   "metadata": {
    "tags": []
   },
   "outputs": [],
   "source": [
    "def fact(n):\n",
    "    if n <= 1: # defining the base case\n",
    "        return 1\n",
    "    else:\n",
    "        return fact(n-1) * n # recursion"
   ]
  },
  {
   "cell_type": "code",
   "execution_count": 2,
   "id": "1681e987-594c-4cd0-8572-352879a6c9cf",
   "metadata": {
    "tags": []
   },
   "outputs": [
    {
     "data": {
      "text/plain": [
       "120"
      ]
     },
     "execution_count": 2,
     "metadata": {},
     "output_type": "execute_result"
    }
   ],
   "source": [
    "# invoking the fact function\n",
    "fact(5)"
   ]
  },
  {
   "cell_type": "code",
   "execution_count": 4,
   "id": "06a94a59-8be3-4c3d-89c9-5462717d2952",
   "metadata": {
    "tags": []
   },
   "outputs": [
    {
     "data": {
      "text/plain": [
       "1"
      ]
     },
     "execution_count": 4,
     "metadata": {},
     "output_type": "execute_result"
    }
   ],
   "source": [
    "fact(0)"
   ]
  },
  {
   "cell_type": "code",
   "execution_count": 15,
   "id": "050ac54d-060b-4931-8adc-7ffb4dbb135f",
   "metadata": {
    "tags": []
   },
   "outputs": [],
   "source": [
    "def iterationFact(n):\n",
    "    result = 1\n",
    "    if n == 0:\n",
    "        return result\n",
    "    for i in range(n, 0, -1):\n",
    "        result = result * i\n",
    "    return result"
   ]
  },
  {
   "cell_type": "code",
   "execution_count": 17,
   "id": "ff069a34-9249-44f2-bf81-8d7970237cc7",
   "metadata": {
    "tags": []
   },
   "outputs": [
    {
     "data": {
      "text/plain": [
       "120"
      ]
     },
     "execution_count": 17,
     "metadata": {},
     "output_type": "execute_result"
    }
   ],
   "source": [
    "iterationFact(5)"
   ]
  },
  {
   "cell_type": "markdown",
   "id": "9e21e99f-a99b-4cd1-b6cd-2c490055e330",
   "metadata": {},
   "source": [
    "# Practice exercise\n",
    "Ask the user to enter the names of three people they want to invite to a party and store them in a list. After they have entered all three names, ask them if they want to add another. If they do, allow them to add more names until they answer “no”. When they answer “no”, display how many people they have invited to the party."
   ]
  },
  {
   "cell_type": "code",
   "execution_count": 19,
   "id": "fcbe5833-fce6-4b3a-9505-014f2d082980",
   "metadata": {
    "tags": []
   },
   "outputs": [],
   "source": [
    "def partyList():\n",
    "    names = input(\"Enter names of three people separate with space: \").split()\n",
    "    print()\n",
    "    other_names = input(\"Do you want to add more names? y/n: \")\n",
    "    print()\n",
    "    while other_names == \"y\":\n",
    "        newname = names.append(input(\"Enter additional name: \"))\n",
    "        print()\n",
    "        other_names = input(\"Do you want to add more names? y/n: \")\n",
    "    for n in names:\n",
    "        print(n)\n",
    "    print(\"You have\", len(names), \"coming to your party\")"
   ]
  },
  {
   "cell_type": "code",
   "execution_count": 20,
   "id": "c9d4c97b-0f08-44db-8052-511e95b8c123",
   "metadata": {
    "tags": []
   },
   "outputs": [
    {
     "name": "stdin",
     "output_type": "stream",
     "text": [
      "Enter names of three people separate with space:  John Mercy joseph\n"
     ]
    },
    {
     "name": "stdout",
     "output_type": "stream",
     "text": [
      "\n"
     ]
    },
    {
     "name": "stdin",
     "output_type": "stream",
     "text": [
      "Do you want to add more names? y/n:  y\n"
     ]
    },
    {
     "name": "stdout",
     "output_type": "stream",
     "text": [
      "\n"
     ]
    },
    {
     "name": "stdin",
     "output_type": "stream",
     "text": [
      "Enter additional name:  kimani\n"
     ]
    },
    {
     "name": "stdout",
     "output_type": "stream",
     "text": [
      "\n"
     ]
    },
    {
     "name": "stdin",
     "output_type": "stream",
     "text": [
      "Do you want to add more names? y/n:  y\n",
      "Enter additional name:  Maryline\n"
     ]
    },
    {
     "name": "stdout",
     "output_type": "stream",
     "text": [
      "\n"
     ]
    },
    {
     "name": "stdin",
     "output_type": "stream",
     "text": [
      "Do you want to add more names? y/n:  y\n",
      "Enter additional name:  willis\n"
     ]
    },
    {
     "name": "stdout",
     "output_type": "stream",
     "text": [
      "\n"
     ]
    },
    {
     "name": "stdin",
     "output_type": "stream",
     "text": [
      "Do you want to add more names? y/n:  y\n",
      "Enter additional name:  yvonne\n"
     ]
    },
    {
     "name": "stdout",
     "output_type": "stream",
     "text": [
      "\n"
     ]
    },
    {
     "name": "stdin",
     "output_type": "stream",
     "text": [
      "Do you want to add more names? y/n:  y\n",
      "Enter additional name:  jessica\n"
     ]
    },
    {
     "name": "stdout",
     "output_type": "stream",
     "text": [
      "\n"
     ]
    },
    {
     "name": "stdin",
     "output_type": "stream",
     "text": [
      "Do you want to add more names? y/n:  n\n"
     ]
    },
    {
     "name": "stdout",
     "output_type": "stream",
     "text": [
      "John\n",
      "Mercy\n",
      "joseph\n",
      "kimani\n",
      "Maryline\n",
      "willis\n",
      "yvonne\n",
      "jessica\n",
      "You have 8 coming to your party\n"
     ]
    }
   ],
   "source": [
    "partyList()"
   ]
  },
  {
   "cell_type": "markdown",
   "id": "ced20a8e-979d-4b92-9d71-8d81fb73145b",
   "metadata": {},
   "source": [
    "# Sandwich\n",
    "Write a function that accepts a list of items a person wants on a sandwich. The function should have one parameter that collects as many items as the function call provides, and it should print a summary of the sandwich that is being ordered Call the function three times, using a different number of arguments each time."
   ]
  },
  {
   "cell_type": "code",
   "execution_count": 35,
   "id": "a2ddadeb-6a78-4baf-a3ea-c3a9bb6d06cc",
   "metadata": {
    "tags": []
   },
   "outputs": [],
   "source": [
    "def sandwich(*sandwich:str):\n",
    "    print(\"You have ordered sandwich with the following ingredients:\")\n",
    "    for s in sandwich:\n",
    "        print('-', s)"
   ]
  },
  {
   "cell_type": "code",
   "execution_count": 34,
   "id": "c4d210f6-a245-43a8-be13-80f563a21cbe",
   "metadata": {
    "tags": []
   },
   "outputs": [
    {
     "name": "stdout",
     "output_type": "stream",
     "text": [
      "You have ordered sandwich with the following ingredients:\n",
      "\n",
      "apple\n",
      "banana\n",
      "eggs\n",
      "vegetables\n"
     ]
    }
   ],
   "source": [
    "sandwich(\"apple\", \"banana\", \"eggs\", \"vegetables\")"
   ]
  },
  {
   "cell_type": "code",
   "execution_count": 36,
   "id": "b7dd9f05-e066-40e9-a929-f45552d33bc6",
   "metadata": {
    "tags": []
   },
   "outputs": [
    {
     "name": "stdout",
     "output_type": "stream",
     "text": [
      "You have ordered sandwich with the following ingredients:\n",
      "- pork\n",
      "- alevadhure\n",
      "- chicken\n"
     ]
    }
   ],
   "source": [
    "sandwich(\"pork\", \"alevadhure\", \"chicken\")"
   ]
  },
  {
   "cell_type": "markdown",
   "id": "160b7869-371c-454b-905e-a4c5b5dc4628",
   "metadata": {},
   "source": [
    "#\n",
    "Create a tuple containing the names of five countries and display the whole tuple. Ask the user to enter one of the countries that have been shown to them and then display the index number (i.e. position in the list) of that item in the tuple."
   ]
  },
  {
   "cell_type": "code",
   "execution_count": 2,
   "id": "33b5c952-d0c4-4aa9-8cc9-3006a40ad6e4",
   "metadata": {
    "tags": []
   },
   "outputs": [],
   "source": [
    "def countries():\n",
    "    countryTuple = ('Kenya', 'Uganda', 'Tanzania', 'Somali', 'Germany')\n",
    "    print(countryTuple)\n",
    "    print()\n",
    "    country = input(\"Please enter one of the countries from above: \")\n",
    "    print(country, \"has index number\", countryTuple.index(country))"
   ]
  },
  {
   "cell_type": "code",
   "execution_count": 4,
   "id": "10750cd7-9072-40b8-8a24-3740ff8d1abc",
   "metadata": {
    "tags": []
   },
   "outputs": [
    {
     "name": "stdout",
     "output_type": "stream",
     "text": [
      "('Kenya', 'Uganda', 'Tanzania', 'Somali', 'Germany')\n",
      "\n"
     ]
    },
    {
     "name": "stdin",
     "output_type": "stream",
     "text": [
      "Please enter one of the countries from above:  Germany\n"
     ]
    },
    {
     "name": "stdout",
     "output_type": "stream",
     "text": [
      "Germany has index number 4\n"
     ]
    }
   ],
   "source": [
    "countries()"
   ]
  },
  {
   "cell_type": "markdown",
   "id": "559a010f-0e7f-4d67-9171-a8ef5ca599ef",
   "metadata": {},
   "source": [
    "# Q3\n",
    "Ask the user to enter four of their favorite foods and store them in a dictionary so that they are indexed with numbers starting from 1. Display the dictionary in full, showing the index number and the item. Ask them which they want to get rid of and remove it from the list. Sort the remaining data and display the dictionary."
   ]
  },
  {
   "cell_type": "code",
   "execution_count": 10,
   "id": "8e1301a3-5623-4453-9cc9-ad658f907802",
   "metadata": {},
   "outputs": [
    {
     "name": "stdin",
     "output_type": "stream",
     "text": [
      "Enter 1st favourite food chapati\n",
      "Enter 2nd favourite food maccaroni\n",
      "Enter 3rd favourite food okra\n",
      "Enter 4th favourite food sandwich\n"
     ]
    },
    {
     "name": "stdout",
     "output_type": "stream",
     "text": [
      "\n",
      "Here is a list of your favorite foods {1: 'chapati', 2: 'maccaroni', 3: 'okra', 4: 'sandwich'}\n",
      "\n"
     ]
    },
    {
     "name": "stdin",
     "output_type": "stream",
     "text": [
      "Which food do you want to remove? 2\n"
     ]
    },
    {
     "name": "stdout",
     "output_type": "stream",
     "text": [
      "\n",
      "Here is the final list of your favourite foods:  ['chapati', 'okra', 'sandwich']\n"
     ]
    }
   ],
   "source": [
    "food1 = input(\"Enter 1st favourite food\")\n",
    "food2 = input('Enter 2nd favourite food')\n",
    "food3 = input(\"Enter 3rd favourite food\")\n",
    "food4 = input(\"Enter 4th favourite food\")\n",
    "print()\n",
    "favFood = {1:food1, 2:food2, 3:food3, 4:food4}\n",
    "print(\"Here is a list of your favorite foods\",favFood)\n",
    "print()\n",
    "remFood = int(input(\"Which food do you want to remove?\"))\n",
    "del favFood[remFood] # using del method to remove specific key value pair\n",
    "print()\n",
    "print(\"Here is the final list of your favourite foods: \",sorted(favFood.values()))"
   ]
  },
  {
   "cell_type": "markdown",
   "id": "d99b8968-d5d2-48e3-bf5f-9843ed3790e1",
   "metadata": {},
   "source": [
    "# practical\n",
    "Write a function that will return true only if a string base_sequence contains only upper- or lowercase T, C, A, and G characters, thus validating the DNA base_sequence."
   ]
  },
  {
   "cell_type": "code",
   "execution_count": 46,
   "id": "441dbef4-08e2-4669-8f62-24e561de8a6f",
   "metadata": {},
   "outputs": [],
   "source": [
    "def validateSeq(base_sequence):\n",
    "    valid_bases = ('ACTGacgt') # setting acceptable DNA characters\n",
    "    for chr in base_sequence: # iterating through characters in base sequence\n",
    "        if chr.upper() not in valid_bases: # checking if the character is in the valid sequences\n",
    "            return False\n",
    "    return True"
   ]
  },
  {
   "cell_type": "code",
   "execution_count": null,
   "id": "9ab24eb9-1fdb-4d4e-8927-ad12b2cf83d5",
   "metadata": {},
   "outputs": [],
   "source": [
    "# Testing the program"
   ]
  },
  {
   "cell_type": "code",
   "execution_count": 47,
   "id": "d15a3f37-0e1a-4525-a3b3-a9e1397007e6",
   "metadata": {},
   "outputs": [
    {
     "data": {
      "text/plain": [
       "True"
      ]
     },
     "execution_count": 47,
     "metadata": {},
     "output_type": "execute_result"
    }
   ],
   "source": [
    "validateSeq(\"TCGacGaa\")"
   ]
  },
  {
   "cell_type": "code",
   "execution_count": 42,
   "id": "467ea4a8-5cfd-4a06-bc33-5947879cbe19",
   "metadata": {},
   "outputs": [
    {
     "data": {
      "text/plain": [
       "False"
      ]
     },
     "execution_count": 42,
     "metadata": {},
     "output_type": "execute_result"
    }
   ],
   "source": [
    "validateSeq(\"XXZZaaTc\")"
   ]
  },
  {
   "cell_type": "code",
   "execution_count": 43,
   "id": "aba06c26-3cce-4aa1-a79c-42fcbd6e7713",
   "metadata": {},
   "outputs": [
    {
     "data": {
      "text/plain": [
       "True"
      ]
     },
     "execution_count": 43,
     "metadata": {},
     "output_type": "execute_result"
    }
   ],
   "source": [
    "validateSeq(\"TGCacgaaGTAcCATC\")"
   ]
  },
  {
   "cell_type": "code",
   "execution_count": 44,
   "id": "45cb5281-9a88-4b91-9033-77e05927bdbb",
   "metadata": {},
   "outputs": [
    {
     "data": {
      "text/plain": [
       "False"
      ]
     },
     "execution_count": 44,
     "metadata": {},
     "output_type": "execute_result"
    }
   ],
   "source": [
    "validateSeq(\"CUGACCAG\")"
   ]
  },
  {
   "cell_type": "code",
   "execution_count": 45,
   "id": "9ac33afb-a1a8-4c7b-b0c3-4ff77542e9a6",
   "metadata": {},
   "outputs": [
    {
     "data": {
      "text/plain": [
       "True"
      ]
     },
     "execution_count": 45,
     "metadata": {},
     "output_type": "execute_result"
    }
   ],
   "source": [
    "validateSeq(\"tCGGGaT\")"
   ]
  },
  {
   "cell_type": "markdown",
   "id": "4ebf8552-e7c9-4e89-91f3-c411a358b7df",
   "metadata": {},
   "source": [
    "# \n",
    " How would you improve this function to validate RNA sequences as well? This entails checking for U instead of T."
   ]
  },
  {
   "cell_type": "code",
   "execution_count": 50,
   "id": "2e2c2cb0-16f2-46e9-8cf1-830262bcfef1",
   "metadata": {},
   "outputs": [],
   "source": [
    "def validate_rna(base_sequence):\n",
    "    valid_base = ('acugACUG')\n",
    "    for char in sequence:\n",
    "        if char.upper() not in valid_base:\n",
    "            return False\n",
    "    return True"
   ]
  },
  {
   "cell_type": "code",
   "execution_count": 51,
   "id": "58af98cf-e46b-45d5-9b8d-e35e7109dabe",
   "metadata": {},
   "outputs": [
    {
     "data": {
      "text/plain": [
       "True"
      ]
     },
     "execution_count": 51,
     "metadata": {},
     "output_type": "execute_result"
    }
   ],
   "source": [
    "validate_rna(\"CUGACCAG\")"
   ]
  },
  {
   "cell_type": "markdown",
   "id": "b5d1cd3c-b763-423c-9776-a428f21bf7a1",
   "metadata": {},
   "source": [
    "# \n",
    "Genomes of different species—and regions within a genome—vary with respect to the proportion of Gs and Cs in their DNA as opposed to Ts and As.  Write a function that will return the percentage of G and C characters in a base_sequence."
   ]
  },
  {
   "cell_type": "code",
   "execution_count": 68,
   "id": "bda0002d-3a96-4720-a403-52b2d3d868fc",
   "metadata": {},
   "outputs": [],
   "source": [
    "def gc_content(base_sequence):\n",
    "    if validateSeq(base_sequence) == True:\n",
    "        seq = base_sequence.upper()\n",
    "        gc_count = seq.count('G') + seq.count('C') \n",
    "        gc_content = gc_count / len(seq) * 100\n",
    "        print(f\"The GC content of {base_sequence} is: {gc_content}%\")\n",
    "    else:\n",
    "        return \"Invalid sequence\""
   ]
  },
  {
   "cell_type": "code",
   "execution_count": 69,
   "id": "06bff73a-f692-4ba5-b19b-9c9cc6a9d3c3",
   "metadata": {},
   "outputs": [
    {
     "name": "stdout",
     "output_type": "stream",
     "text": [
      "The GC content of TCGacGaa is: 50.0%\n"
     ]
    }
   ],
   "source": [
    "# Testing the program\n",
    "gc_content(\"TCGacGaa\")"
   ]
  },
  {
   "cell_type": "code",
   "execution_count": 70,
   "id": "07fb3e5f-798c-4f8a-8e2b-3594ac7151f4",
   "metadata": {},
   "outputs": [
    {
     "name": "stdout",
     "output_type": "stream",
     "text": [
      "The GC content of TGCacgaaGTAcCATC is: 50.0%\n"
     ]
    }
   ],
   "source": [
    "gc_content(\"TGCacgaaGTAcCATC\")"
   ]
  },
  {
   "cell_type": "code",
   "execution_count": 71,
   "id": "1834fe8c-b1e7-40bd-9ac5-80b890c1ba6a",
   "metadata": {},
   "outputs": [
    {
     "name": "stdout",
     "output_type": "stream",
     "text": [
      "The GC content of tCGGGaT is: 57.14285714285714%\n"
     ]
    }
   ],
   "source": [
    "gc_content(\"tCGGGaT\")"
   ]
  },
  {
   "cell_type": "code",
   "execution_count": 72,
   "id": "dd44405d-b5b2-4073-ae38-19d0493a37bc",
   "metadata": {},
   "outputs": [
    {
     "data": {
      "text/plain": [
       "'Invalid sequence'"
      ]
     },
     "execution_count": 72,
     "metadata": {},
     "output_type": "execute_result"
    }
   ],
   "source": [
    "gc_content(\"XXZZaaTc\")"
   ]
  }
 ],
 "metadata": {
  "kernelspec": {
   "display_name": "Python 3 (ipykernel)",
   "language": "python",
   "name": "python3"
  },
  "language_info": {
   "codemirror_mode": {
    "name": "ipython",
    "version": 3
   },
   "file_extension": ".py",
   "mimetype": "text/x-python",
   "name": "python",
   "nbconvert_exporter": "python",
   "pygments_lexer": "ipython3",
   "version": "3.12.1"
  }
 },
 "nbformat": 4,
 "nbformat_minor": 5
}
