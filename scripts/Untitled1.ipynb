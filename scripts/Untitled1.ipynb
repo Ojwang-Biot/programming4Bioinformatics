{
 "cells": [
  {
   "cell_type": "code",
   "execution_count": 1,
   "id": "1ceb431b-23aa-475f-8f88-168675334a50",
   "metadata": {},
   "outputs": [
    {
     "name": "stdout",
     "output_type": "stream",
     "text": [
      "2\n"
     ]
    }
   ],
   "source": [
    "nums = {1,2,3,4,5,6}\n",
    "nums = {0,1,2,3} & nums\n",
    "nums = filter(lambda x:x > 1, nums)\n",
    "print(len(list(nums)))"
   ]
  },
  {
   "cell_type": "code",
   "execution_count": 2,
   "id": "719e1843-85f4-4c6f-bac6-1a7f37ba5f21",
   "metadata": {},
   "outputs": [
    {
     "name": "stdout",
     "output_type": "stream",
     "text": [
      "8\n"
     ]
    }
   ],
   "source": [
    "def power(x,y):\n",
    "    if y == 0:\n",
    "        return 1\n",
    "    else:\n",
    "        return x*power(x,y-1)\n",
    "print(power(2,3))"
   ]
  },
  {
   "cell_type": "code",
   "execution_count": null,
   "id": "0fcd51f5-11bd-4019-a245-327d35c281c8",
   "metadata": {},
   "outputs": [],
   "source": []
  }
 ],
 "metadata": {
  "kernelspec": {
   "display_name": "Python 3 (ipykernel)",
   "language": "python",
   "name": "python3"
  },
  "language_info": {
   "codemirror_mode": {
    "name": "ipython",
    "version": 3
   },
   "file_extension": ".py",
   "mimetype": "text/x-python",
   "name": "python",
   "nbconvert_exporter": "python",
   "pygments_lexer": "ipython3",
   "version": "3.12.1"
  }
 },
 "nbformat": 4,
 "nbformat_minor": 5
}
