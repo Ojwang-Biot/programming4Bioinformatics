{
 "cells": [
  {
   "cell_type": "code",
   "execution_count": 3,
   "id": "5a29f2a5-69c4-4fb9-b8d6-95297d5b4477",
   "metadata": {},
   "outputs": [
    {
     "name": "stdin",
     "output_type": "stream",
     "text": [
      "Enter the file name:  flesch.txt\n"
     ]
    },
    {
     "name": "stdout",
     "output_type": "stream",
     "text": [
      "The Flesch Index is 145.26068627450982\n",
      "The Grade Level Equivalent is -1\n",
      "3 sentences\n",
      "68 words\n",
      "31 syllables\n"
     ]
    }
   ],
   "source": [
    "###### taking the input\n",
    "\n",
    "fileName = input(\"Enter the file name: \")\n",
    "inputFile = open(fileName, 'r')\n",
    "text = inputFile.read()\n",
    "\n",
    "# counting the sentences\n",
    "\n",
    "sentences = text.count('.') + text.count('?') + \\\n",
    "text.count(':') + text.count(';') + \\\n",
    "text.count('!')\n",
    "\n",
    "# counting the words\n",
    "words = len(text.split())\n",
    "\n",
    "# counting the syllables\n",
    "\n",
    "syllables = 0\n",
    "for word in text.split():\n",
    "    for vowels in ['a', 'e', 'i', 'o', 'u']:\n",
    "        syllables += word.count(vowels)\n",
    "        for ending in ['es', 'ed', 'e']:\n",
    "            if word.endswith(ending):\n",
    "                syllables -= 1\n",
    "            if word.endswith('le'):\n",
    "                syllables += 1\n",
    "\n",
    "# computing the Flesch Index and Grade level\n",
    "index = 206.835 - 1.015 * (words / float(sentences)) - \\\n",
    "84.6 * (syllables / words)\n",
    "level = int(round(0.39 * (words / float(sentences)) + 11.8 * \\\n",
    "                 (syllables / float(words))- 15.59))\n",
    "\n",
    "# printing the output\n",
    "\n",
    "print(\"The Flesch Index is\", index)\n",
    "print(\"The Grade Level Equivalent is\", level)\n",
    "print(sentences, \"sentences\")\n",
    "print(words, \"words\")\n",
    "print(syllables, \"syllables\")\n",
    "\n"
   ]
  }
 ],
 "metadata": {
  "kernelspec": {
   "display_name": "Python 3 (ipykernel)",
   "language": "python",
   "name": "python3"
  },
  "language_info": {
   "codemirror_mode": {
    "name": "ipython",
    "version": 3
   },
   "file_extension": ".py",
   "mimetype": "text/x-python",
   "name": "python",
   "nbconvert_exporter": "python",
   "pygments_lexer": "ipython3",
   "version": "3.12.1"
  }
 },
 "nbformat": 4,
 "nbformat_minor": 5
}
