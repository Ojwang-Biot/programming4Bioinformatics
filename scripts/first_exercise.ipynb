{
 "cells": [
  {
   "cell_type": "code",
   "execution_count": null,
   "id": "207575b3-a24b-4f4d-8477-2d89f1855d95",
   "metadata": {},
   "outputs": [],
   "source": [
    "# program segment that uses a while loop to add up all the even numbers between 100 and 200 inclusive'''"
   ]
  },
  {
   "cell_type": "code",
   "execution_count": 4,
   "id": "47f69ba8-8ba8-4488-a02f-a992030b035f",
   "metadata": {},
   "outputs": [
    {
     "name": "stdout",
     "output_type": "stream",
     "text": [
      "100\n",
      "102\n",
      "104\n",
      "106\n",
      "108\n",
      "110\n",
      "112\n",
      "114\n",
      "116\n",
      "118\n",
      "120\n",
      "122\n",
      "124\n",
      "126\n",
      "128\n",
      "130\n",
      "132\n",
      "134\n",
      "136\n",
      "138\n",
      "140\n",
      "142\n",
      "144\n",
      "146\n",
      "148\n",
      "150\n",
      "152\n",
      "154\n",
      "156\n",
      "158\n",
      "160\n",
      "162\n",
      "164\n",
      "166\n",
      "168\n",
      "170\n",
      "172\n",
      "174\n",
      "176\n",
      "178\n",
      "180\n",
      "182\n",
      "184\n",
      "186\n",
      "188\n",
      "190\n",
      "192\n",
      "194\n",
      "196\n",
      "198\n",
      "200\n",
      "and the sum us 7650\n"
     ]
    }
   ],
   "source": [
    "count = 98\n",
    "sum = 0\n",
    "\n",
    "\n",
    "while count < 200:\n",
    "    count += 2\n",
    "    sum += count\n",
    "    print(count)\n",
    "\n",
    "print(\"and the sum us\", sum)\n",
    "    "
   ]
  },
  {
   "cell_type": "code",
   "execution_count": null,
   "id": "e76cbef6-d5f8-4be8-89b9-1530d7041e1f",
   "metadata": {},
   "outputs": [],
   "source": [
    "'''Two versions of a program that sums a series of (positive) integers entered by the user, \n",
    "excluding all numbers that are greater than 100: Dr. Mbogholi'''"
   ]
  },
  {
   "cell_type": "code",
   "execution_count": 1,
   "id": "782f83b2-9cdd-4185-9453-8d4901fc3001",
   "metadata": {},
   "outputs": [
    {
     "name": "stdin",
     "output_type": "stream",
     "text": [
      "Enter numbers:  10 50 60\n"
     ]
    },
    {
     "name": "stdout",
     "output_type": "stream",
     "text": [
      "The sum is 120\n"
     ]
    }
   ],
   "source": [
    "# version 1\n",
    "input_numbers = input(\"Enter numbers: \")\n",
    "numbers = [int(num) for num in input_numbers.split()]\n",
    "\n",
    "sum = 0\n",
    "\n",
    "for num in numbers:\n",
    "    if num <= 100:\n",
    "        sum += num\n",
    "\n",
    "print(\"The sum is\", sum)"
   ]
  },
  {
   "cell_type": "code",
   "execution_count": 10,
   "id": "56b8201a-7c82-416e-8598-23c50a145c0b",
   "metadata": {},
   "outputs": [
    {
     "name": "stdout",
     "output_type": "stream",
     "text": [
      "How many numbers\n"
     ]
    },
    {
     "name": "stdin",
     "output_type": "stream",
     "text": [
      "Enter how many:  4\n",
      "Enter number:  2\n",
      "Enter number:  3\n",
      "Enter number:  5\n",
      "Enter number:  5\n"
     ]
    },
    {
     "name": "stdout",
     "output_type": "stream",
     "text": [
      "Sum is:  15\n"
     ]
    }
   ],
   "source": [
    "# version 2\n",
    "print(\"How many numbers: \")\n",
    "n = int(input(\"How many numbers do you want to enter: \"))\n",
    "\n",
    "sum = 0\n",
    "for i in range(n):\n",
    "    nums = int(input(\"Enter a number: \"))\n",
    "    if nums < 100:\n",
    "        sum += nums\n",
    "\n",
    "print(\"Sum is: \", sum)"
   ]
  },
  {
   "cell_type": "code",
   "execution_count": 9,
   "id": "d0e0278a-9c99-4f0f-bd53-b5c3e20a7060",
   "metadata": {},
   "outputs": [
    {
     "name": "stdin",
     "output_type": "stream",
     "text": [
      "Enter one side of a triangle:  5\n",
      "Enter the second side:  8\n",
      "Enter the third side:  10\n"
     ]
    },
    {
     "name": "stdout",
     "output_type": "stream",
     "text": [
      "Not a right angled triangle\n"
     ]
    }
   ],
   "source": [
    "# \n",
    "\n",
    "a = int(input(\"Enter the base of a triangle: \"))\n",
    "b = int(input(\"Enter the height of a triangle: \"))\n",
    "c = int(input(\"Enter the hypotenus of a triangle: \"))\n",
    "\n",
    "d = c**2 - (a**2 + b**2) # since a^2 + b^2 = c^2, it implies that c^2 - (a^2 + b^2) = 0 - we store zero in variable d\n",
    "\n",
    "if d != 0:\n",
    "    print(\"Not a right angled triangle\")\n",
    "else:\n",
    "    print(\"This is a right angled triangle: KUDOS!\")"
   ]
  },
  {
   "cell_type": "code",
   "execution_count": null,
   "id": "69b6f508-9600-4e2d-9455-d5f69fba0b8c",
   "metadata": {},
   "outputs": [],
   "source": []
  },
  {
   "cell_type": "code",
   "execution_count": 12,
   "id": "0d42eff5-f5ca-498e-9a56-5d1155b54838",
   "metadata": {},
   "outputs": [
    {
     "name": "stdin",
     "output_type": "stream",
     "text": [
      "Enter three sides of a triangle in the following order separated by space:a b c:  5 12 13\n"
     ]
    },
    {
     "name": "stdout",
     "output_type": "stream",
     "text": [
      "This is not a right angled triangle: \n"
     ]
    }
   ],
   "source": [
    "sides_triangle = input(\"Enter three sides of a triangle in the following order separated by space:a b c: \")\n",
    "sides = [int(num) for num in sides_triangle.split()]\n",
    "\n",
    "x = c**2 - (a**2 + b**2)\n",
    "\n",
    "if x != 0:\n",
    "    print(\"This is not a right angled triangle: \")\n",
    "else:\n",
    "    print(\"This is a right angled triangle: KUDOS MY G!\")"
   ]
  },
  {
   "cell_type": "markdown",
   "id": "bf7241ed-cfac-48cd-afdf-1d89911108ab",
   "metadata": {},
   "source": [
    "## Class practice\n",
    "\n",
    "Fred, 025, 50,000, 10,000\n",
    "sue, 095, 100000, 72,000"
   ]
  },
  {
   "cell_type": "code",
   "execution_count": 56,
   "id": "9f9f6664-2588-4a4a-99ba-5bddc91028a0",
   "metadata": {},
   "outputs": [],
   "source": [
    "# function to calculate total salary given commisions\n",
    "\n",
    "def calculate_salary(name, pf, toothpaste, toothpowder):\n",
    "    \n",
    "    retainer = 25000\n",
    "    comm_toothpaste = 0.1 * toothpaste # computing commision of toothpaste\n",
    "    comm_toothpowder = 0.2 * toothpowder # computing toothpowder commision\n",
    "    total_comm = comm_toothpaste + comm_toothpowder\n",
    "    total_salary = retainer + total_comm\n",
    "    \n",
    "    print(f\"The salary of {name} PF no: {pf} is: {total_salary}\")\n",
    "    return name, pf, total_salary"
   ]
  },
  {
   "cell_type": "code",
   "execution_count": 57,
   "id": "aa9156f1-7c0a-40e6-a717-d5f0812d719e",
   "metadata": {},
   "outputs": [
    {
     "name": "stdout",
     "output_type": "stream",
     "text": [
      "The salary of Fred PF no: 025 is: 32000.0\n"
     ]
    },
    {
     "data": {
      "text/plain": [
       "('Fred', '025', 32000.0)"
      ]
     },
     "execution_count": 57,
     "metadata": {},
     "output_type": "execute_result"
    }
   ],
   "source": [
    "calculate_salary(\"Fred\", \"025\", 50000, 10000)"
   ]
  },
  {
   "cell_type": "code",
   "execution_count": 55,
   "id": "6647ad4e-7957-44b0-bc0c-e62391b1d0d9",
   "metadata": {},
   "outputs": [
    {
     "data": {
      "text/plain": [
       "('Fred', 21, 32000.0)"
      ]
     },
     "execution_count": 55,
     "metadata": {},
     "output_type": "execute_result"
    }
   ],
   "source": [
    "calculate_salary(\"Fred\", 25, 50000, 10000)"
   ]
  },
  {
   "cell_type": "code",
   "execution_count": 26,
   "id": "26d2355a-f981-4750-8e43-7827203811fb",
   "metadata": {},
   "outputs": [
    {
     "data": {
      "text/plain": [
       "('Sue', 95, 49400.0)"
      ]
     },
     "execution_count": 26,
     "metadata": {},
     "output_type": "execute_result"
    }
   ],
   "source": [
    "calculate_salary(\"Sue\", 95, 100000, 72000)"
   ]
  },
  {
   "cell_type": "code",
   "execution_count": 27,
   "id": "44f6f0f5-bcd1-45a7-ac2d-bbc77619b29c",
   "metadata": {},
   "outputs": [
    {
     "data": {
      "text/plain": [
       "('Doris', 10, 50500.0)"
      ]
     },
     "execution_count": 27,
     "metadata": {},
     "output_type": "execute_result"
    }
   ],
   "source": [
    "calculate_salary(\"Doris\", 10, 5000, 125000)"
   ]
  },
  {
   "cell_type": "code",
   "execution_count": 28,
   "id": "a47ddf1c-42ee-4ac7-aa89-4bf73d4d8954",
   "metadata": {},
   "outputs": [
    {
     "data": {
      "text/plain": [
       "('Zack', 1022, 38000.0)"
      ]
     },
     "execution_count": 28,
     "metadata": {},
     "output_type": "execute_result"
    }
   ],
   "source": [
    "calculate_salary(\"Zack\", 1022, 130000, 0)"
   ]
  },
  {
   "cell_type": "markdown",
   "id": "e2b1302a-4d81-41b8-8081-3b1dcb6e6da5",
   "metadata": {},
   "source": [
    "## Algorithm to confirm whether given lengths can form a triangle\n",
    "\n",
    "**Steps to follow**\n",
    "1. input 3 lengths a, b, c\n",
    "2. check whether any of the lengths is greater than sum of the other two\n",
    "   - if a > (b + c) or b > (a + c) or c > (b + a) then print not a triangle otherwise print yes\n",
    "3. print \"No\" or \"Yes\""
   ]
  },
  {
   "cell_type": "code",
   "execution_count": 63,
   "id": "41f41e9f-f1e2-43dd-bdb1-034131a74763",
   "metadata": {},
   "outputs": [],
   "source": [
    "def is_triangle(a, b, c):\n",
    "    \n",
    "    if a > (b + c) or b > (a + c) or c > (b + a):\n",
    "        print(\"No\")\n",
    "    elif a == (b + c) or b == (a + c) or c == (a + b):\n",
    "        print(\"Yes, Degenerate Triangle\")\n",
    "    else:\n",
    "        print(\"Yes\")\n",
    "        "
   ]
  },
  {
   "cell_type": "code",
   "execution_count": 37,
   "id": "e5bf0ff3-4edb-493e-9809-fb95fdb1ca6e",
   "metadata": {},
   "outputs": [
    {
     "name": "stdout",
     "output_type": "stream",
     "text": [
      "Yes\n"
     ]
    }
   ],
   "source": [
    "# Calling the function to check whether values can form a triangle or not \n",
    "is_triangle(8, 10, 6)"
   ]
  },
  {
   "cell_type": "markdown",
   "id": "47887db2-2aee-4010-b004-19a28c70ea49",
   "metadata": {},
   "source": [
    "## part b of the question\n",
    "**Write a function that prompts the user to input three stick lengths, converts them to integers and uses is_triangle to check whether sticks with the given lengths can form a triangle**"
   ]
  },
  {
   "cell_type": "code",
   "execution_count": 59,
   "id": "64299410-f086-47e2-a442-a305b14d6498",
   "metadata": {},
   "outputs": [],
   "source": [
    "# function to prompt user to input stick lengths\n",
    "\n",
    "def userInputStickLengths():\n",
    "    a = int(float(input(\"Enter first stick length: \")))\n",
    "    b = int(float(input(\"Enter second stick length: \")))\n",
    "    c = int(float(input(\"Enter third stick length: \")))\n",
    "    \n",
    "    is_triangle(a, b, c) # calling a function inside another function\n",
    "    "
   ]
  },
  {
   "cell_type": "code",
   "execution_count": 60,
   "id": "feeddf60-693e-4884-9142-7f9ab58d69f2",
   "metadata": {},
   "outputs": [
    {
     "name": "stdin",
     "output_type": "stream",
     "text": [
      "Enter first stick length:  5.0\n",
      "Enter second stick length:  23.8\n",
      "Enter third stick length:  10.5\n"
     ]
    },
    {
     "name": "stdout",
     "output_type": "stream",
     "text": [
      "No\n"
     ]
    }
   ],
   "source": [
    "userInputStickLengths()"
   ]
  },
  {
   "cell_type": "code",
   "execution_count": null,
   "id": "db84e9e4-c556-4a8e-b32b-3a58870976e5",
   "metadata": {},
   "outputs": [],
   "source": []
  }
 ],
 "metadata": {
  "kernelspec": {
   "display_name": "Python 3 (ipykernel)",
   "language": "python",
   "name": "python3"
  },
  "language_info": {
   "codemirror_mode": {
    "name": "ipython",
    "version": 3
   },
   "file_extension": ".py",
   "mimetype": "text/x-python",
   "name": "python",
   "nbconvert_exporter": "python",
   "pygments_lexer": "ipython3",
   "version": "3.12.1"
  }
 },
 "nbformat": 4,
 "nbformat_minor": 5
}
