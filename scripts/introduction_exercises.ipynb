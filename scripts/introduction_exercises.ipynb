{
 "cells": [
  {
   "cell_type": "markdown",
   "id": "2ce0a1de-a8e1-4e9d-b303-f82f38ca9a0b",
   "metadata": {},
   "source": [
    "## Excercise 1\n",
    "Write a function that takes a year and returns true if the input is a leap year and false otherwise. Note: Every year that is exactly divisible by four is a leap year, except for years that are exactly divisible by 100, unless these are divisible by 400."
   ]
  },
  {
   "cell_type": "code",
   "execution_count": 1,
   "id": "cf7f537e-2b69-4c9a-bb73-638c8c94c1e2",
   "metadata": {},
   "outputs": [],
   "source": [
    "# a function to check for if a given year is a leap year or not\n",
    "def checkLeapYear():\n",
    "    year = int(input(\"Enter a year to check: \"))\n",
    "    if year % 4 != 0:\n",
    "        return False\n",
    "    elif year % 100 == 0:\n",
    "        if year % 400 == 0:\n",
    "            return True\n",
    "        else:\n",
    "            return False\n",
    "    else:\n",
    "        return True"
   ]
  },
  {
   "cell_type": "code",
   "execution_count": 5,
   "id": "a7408e61-cfeb-4ac0-8d6c-6627220e52d8",
   "metadata": {},
   "outputs": [
    {
     "name": "stdin",
     "output_type": "stream",
     "text": [
      "Enter a year to check:  2016\n"
     ]
    },
    {
     "data": {
      "text/plain": [
       "True"
      ]
     },
     "execution_count": 5,
     "metadata": {},
     "output_type": "execute_result"
    }
   ],
   "source": [
    "# calling the function\n",
    "checkLeapYear()"
   ]
  },
  {
   "cell_type": "markdown",
   "id": "6ab95d97-b790-4f31-8fca-2957cc4d1b41",
   "metadata": {},
   "source": [
    "## Excercise 2\n",
    "Write an algorithm to determine a student’s final grade and indicate whether s/he\n",
    "has passed or failed; the pass mark is 50%. The final grade is calculated as the\n",
    "average of four marks. Write and test the corresponding Python program.\n",
    "\n",
    "**Solution**\n",
    "*Algorithm*\n",
    "1. Declare variables a,b,c, and d\n",
    "2. Enter the marks of the student and store it in variables a, b, c, and d\n",
    "3. Calculate the total grades and store them in variable sum_grades\n",
    "4. Calculate the final grade by dividing sum_gradess by 4 and store it in variable final_grade\n",
    "5. If the final grade is greater or equal to 50% the student has passed\n",
    "6. Otherwise the student has failed\n",
    "7. Output the final_grade and whether the student has passed or failed"
   ]
  },
  {
   "cell_type": "code",
   "execution_count": 14,
   "id": "0adfe7e7-51ea-4a32-b7e9-b454b9c51b62",
   "metadata": {},
   "outputs": [],
   "source": [
    "# implementation of the above algorithm\n",
    "\n",
    "def student_grade(a, b, c, d):\n",
    "    sum_grades = a + b + c + d\n",
    "    final_grade = (a+b+c+d)/4\n",
    "    \n",
    "    if final_grade >= 50:\n",
    "        result = \"Passed\"\n",
    "    else:\n",
    "        result = \"Failed\"\n",
    "    return final_grade, result\n",
    "    "
   ]
  },
  {
   "cell_type": "code",
   "execution_count": 16,
   "id": "b6984722-4fe1-41b9-8754-fcc566457121",
   "metadata": {},
   "outputs": [
    {
     "data": {
      "text/plain": [
       "(35.0, 'Failed')"
      ]
     },
     "execution_count": 16,
     "metadata": {},
     "output_type": "execute_result"
    }
   ],
   "source": [
    "student_grade(10, 40, 70, 20)"
   ]
  },
  {
   "cell_type": "markdown",
   "id": "458d5e5a-bf61-46ed-a346-b5012db92048",
   "metadata": {},
   "source": [
    "## Exercise 3\n",
    "Write an algorithm to convert feet into meters. Write and test the corresponding\n",
    "program.\n",
    "\n",
    "**Algorithm**\n",
    "1. Declare a variable feet to store the values in feet\n",
    "2. Convert feets to meters using the conversion factor 0.3048\n",
    "3. Return the result of the conversion"
   ]
  },
  {
   "cell_type": "code",
   "execution_count": 21,
   "id": "0fd75eb4-66b7-4429-a9e9-14822c1a86b3",
   "metadata": {},
   "outputs": [],
   "source": [
    "def feet_meters(feet):\n",
    "    meters = feet * 0.3048\n",
    "    result = f\"{feet} feet is {meters} meters\"\n",
    "    return result\n"
   ]
  },
  {
   "cell_type": "code",
   "execution_count": 23,
   "id": "a9350e3b-0324-4ce4-aacb-3a98271d1ef9",
   "metadata": {},
   "outputs": [
    {
     "data": {
      "text/plain": [
       "'20 feet is 6.096 meters'"
      ]
     },
     "execution_count": 23,
     "metadata": {},
     "output_type": "execute_result"
    }
   ],
   "source": [
    "feet_meters(20)"
   ]
  },
  {
   "cell_type": "markdown",
   "id": "a8b641d8-72ab-412c-bc0a-3b5ff09c092c",
   "metadata": {},
   "source": [
    "## Exercise 4\n",
    "Write an algorithm that reads three numbers and prints the value of the largest\n",
    "number. Write and test the corresponding program.\n",
    "**ALgorithm**\n",
    "1. Ask user to input numbers three numbers\n",
    "2. if the first number is greater than the second number and the third number then it is the largest number\n",
    "3. if the second number is greater than the first number and the last number, then it is the largest\n",
    "4. if the third number is greater than the first number and second number then it is the largest\n",
    "5. print out the largest number"
   ]
  },
  {
   "cell_type": "code",
   "execution_count": 24,
   "id": "873a6c1a-ead7-41d3-a17a-43c028195f1b",
   "metadata": {},
   "outputs": [],
   "source": [
    "def largest_num(a, b, c):\n",
    "    if a > b and a > c:\n",
    "        return a\n",
    "    elif b > c and b > a:\n",
    "        return b\n",
    "    elif c > a and c > b:\n",
    "        return c\n",
    "    else:\n",
    "        return a, b, c"
   ]
  },
  {
   "cell_type": "code",
   "execution_count": null,
   "id": "906e06b5-e268-42b7-859e-0b3168a80074",
   "metadata": {},
   "outputs": [],
   "source": [
    "largest_num(1, 1, 100)"
   ]
  },
  {
   "cell_type": "markdown",
   "id": "6d2a0ac1-b188-4b52-85b6-c2b1aad379b1",
   "metadata": {},
   "source": [
    "## Exercise 5\n",
    "Write an algorithm to: read an employee name (NAME), overtime hours worked\n",
    "(OVERTIME), hours absent (ABSENT) and determine the bonus payment\n",
    "(PAYMENT). Bonus = OVERTIME – (2/3)*ABSENT\n",
    "\n",
    "**Algorithm**\n",
    "1. Enter employee name and store it in variable NAME\n",
    "2. Enter overtime hours worked and store it in variable OVERTIME\n",
    "3. Enter hours absent and store it in variable ABSENT\n",
    "4. Calculate total overtime hours; totalOVERTIME = OVERTIME - (2/3)*ABSENT\n",
    "5. If the totalOVERTIME > 40 hours,  bonus = $50\n",
    "6. If totalOVERTIME > 30 but <= 40, bonus = $40\n",
    "7. If totalOVERTIME >20 but <= 30 hours, bonus = $30\n",
    "8. If totalOVERTIME >10 but <= 20 hours, bonus = $20\n",
    "9. otherwise totalOVERTIME <= 10 hours, bonus = $10"
   ]
  },
  {
   "cell_type": "code",
   "execution_count": 22,
   "id": "6b94dc19-3328-4cca-93b3-e08cbd047db6",
   "metadata": {},
   "outputs": [],
   "source": [
    "# function to determine bonus payment\n",
    "def bonusCalculator():\n",
    "    NAME = input(\"Enter employee name: \")\n",
    "    OVERTIME = int(input(\"Enter overtime hours worked: \"))\n",
    "    ABSENT = int(input(\"Enter hours absent: \"))\n",
    "\n",
    "    totalOVERTIME = OVERTIME - (2/3) * ABSENT\n",
    "\n",
    "    if totalOVERTIME > 40:\n",
    "        print(f\"{NAME}: Your bonus payment is: \",50)\n",
    "    elif totalOVERTIME > 30 and totalOVERTIME <= 40:\n",
    "        print(f\"{NAME}: Your bonus payment is: \",40)\n",
    "    elif totalOVERTIME > 20 and totalOVERTIME <= 30:\n",
    "        print(f\"{NAME}: Your bonus payment is: \",30)\n",
    "    elif totalOVERTIME > 10 and totalOVERTIME <= 20:\n",
    "        print(f\"{NAME}: Your bonus payment is: \",20)\n",
    "    else:\n",
    "        print(f\"{NAME}: Your bonus payment is: \",10)"
   ]
  },
  {
   "cell_type": "code",
   "execution_count": 23,
   "id": "43b4ca2d-fdda-45fb-816e-5651f01e494a",
   "metadata": {},
   "outputs": [
    {
     "name": "stdin",
     "output_type": "stream",
     "text": [
      "Enter employee name:  Paul\n",
      "Enter overtime hours worked:  10\n",
      "Enter hours absent:  10\n"
     ]
    },
    {
     "name": "stdout",
     "output_type": "stream",
     "text": [
      "Paul: Your bonus payment is:  10\n"
     ]
    }
   ],
   "source": [
    "bonusCalculator()"
   ]
  },
  {
   "cell_type": "code",
   "execution_count": null,
   "id": "3d05561d-2ab0-4bea-bca1-ae13d77131a1",
   "metadata": {},
   "outputs": [],
   "source": []
  },
  {
   "cell_type": "code",
   "execution_count": null,
   "id": "f61d6484-3afc-4b95-9aee-359ed146aea0",
   "metadata": {},
   "outputs": [],
   "source": []
  }
 ],
 "metadata": {
  "kernelspec": {
   "display_name": "Python 3 (ipykernel)",
   "language": "python",
   "name": "python3"
  },
  "language_info": {
   "codemirror_mode": {
    "name": "ipython",
    "version": 3
   },
   "file_extension": ".py",
   "mimetype": "text/x-python",
   "name": "python",
   "nbconvert_exporter": "python",
   "pygments_lexer": "ipython3",
   "version": "3.12.1"
  }
 },
 "nbformat": 4,
 "nbformat_minor": 5
}
